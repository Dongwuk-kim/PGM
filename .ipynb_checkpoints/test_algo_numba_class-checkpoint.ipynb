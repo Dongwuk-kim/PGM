{
 "cells": [
  {
   "cell_type": "code",
   "execution_count": null,
   "metadata": {},
   "outputs": [],
   "source": [
    "from BPM_MF_algo_numba_class import BPM_MatrixFactorization, fit\n",
    "import pandas as pd\n",
    "import numpy as np\n",
    "from ypstruct import structure\n",
    "from scipy.sparse import coo_matrix\n",
    "from collections import Counter\n",
    "from sklearn.model_selection import KFold\n",
    "from sklearn.model_selection import train_test_split\n",
    "import json"
   ]
  },
  {
   "cell_type": "code",
   "execution_count": null,
   "metadata": {},
   "outputs": [],
   "source": [
    "#Import data\n",
    "colnames = ['userId', 'movieId', 'rating', 'timeStamp']\n",
    "data_df = pd.read_csv('ml-100k/u.data',sep='\\t', \n",
    "                        names = colnames, header = None)"
   ]
  },
  {
   "cell_type": "code",
   "execution_count": null,
   "metadata": {},
   "outputs": [],
   "source": [
    "data_df"
   ]
  },
  {
   "cell_type": "code",
   "execution_count": null,
   "metadata": {},
   "outputs": [],
   "source": [
    "userId_list = Counter(data_df['userId'])\n",
    "movieId_list = Counter(data_df['movieId'])\n",
    "ratings_list = Counter(data_df['rating'])\n",
    "\n",
    "userId_arr  = data_df['userId'].values.copy()\n",
    "movieId_arr = data_df['movieId'].values.copy()\n",
    "rating_arr = data_df['rating'].values.copy()"
   ]
  },
  {
   "cell_type": "code",
   "execution_count": null,
   "metadata": {},
   "outputs": [],
   "source": [
    "#coordinate transformation minus 1\n",
    "userId_arr -= 1\n",
    "movieId_arr -= 1\n",
    "\n",
    "#problem setting\n",
    "problem = structure()\n",
    "problem.maxiter = 250\n",
    "problem.rows = max(userId_arr)+1\n",
    "problem.cols = max(movieId_arr)+1"
   ]
  },
  {
   "cell_type": "code",
   "execution_count": null,
   "metadata": {},
   "outputs": [],
   "source": [
    "X_train, X_test = train_test_split(data_df, test_size=0.2, random_state=42)"
   ]
  },
  {
   "cell_type": "code",
   "execution_count": null,
   "metadata": {},
   "outputs": [],
   "source": [
    "idx_train = X_train.index\n",
    "idx_test = X_test.index"
   ]
  },
  {
   "cell_type": "code",
   "execution_count": null,
   "metadata": {},
   "outputs": [],
   "source": [
    "userId_train = X_train['userId'].values - 1\n",
    "movieId_train = X_train['movieId'].values - 1\n",
    "rating_train = X_train['rating'].values\n",
    "\n",
    "sparse_train_matrix = coo_matrix((rating_train, (userId_train, movieId_train)), \\\n",
    "                           shape=(problem.rows, problem.cols))"
   ]
  },
  {
   "cell_type": "code",
   "execution_count": null,
   "metadata": {},
   "outputs": [],
   "source": [
    "userId_test = X_test['userId'].values - 1\n",
    "movieId_test = X_test['movieId'].values - 1\n",
    "rating_test = X_test['rating'].values\n",
    "\n",
    "sparse_test_matrix = coo_matrix((rating_test, (userId_test, movieId_test)), \\\n",
    "                           shape=(problem.rows, problem.cols))"
   ]
  },
  {
   "cell_type": "code",
   "execution_count": null,
   "metadata": {},
   "outputs": [],
   "source": [
    "problem.data_m = sparse_train_matrix\n",
    "problem.test_m = sparse_test_matrix"
   ]
  },
  {
   "cell_type": "code",
   "execution_count": null,
   "metadata": {},
   "outputs": [],
   "source": [
    "# parameters setting\n",
    "params = structure()\n",
    "params.alpha = 0.2\n",
    "params.beta = 5\n",
    "params.R = 4\n",
    "params.normal_loc = 0\n",
    "params.normal_var = 0.5\n",
    "params.latent_k = 5"
   ]
  },
  {
   "cell_type": "code",
   "execution_count": null,
   "metadata": {},
   "outputs": [],
   "source": [
    "problem.data_m"
   ]
  },
  {
   "cell_type": "code",
   "execution_count": null,
   "metadata": {},
   "outputs": [],
   "source": [
    "problem.test_m"
   ]
  },
  {
   "cell_type": "code",
   "execution_count": null,
   "metadata": {},
   "outputs": [],
   "source": [
    "factorization = BPM_MatrixFactorization(problem, params)"
   ]
  },
  {
   "cell_type": "code",
   "execution_count": null,
   "metadata": {},
   "outputs": [],
   "source": [
    "factorization.normal_var"
   ]
  },
  {
   "cell_type": "code",
   "execution_count": null,
   "metadata": {},
   "outputs": [],
   "source": [
    "#Import data\n",
    "colnames = ['userId', 'movieId', 'rating', 'timeStamp']\n",
    "data_df = pd.read_csv('ml-100k/u.data',sep='\\t', \n",
    "                        names = colnames, header = None)\n",
    "# data_df = pd.read_csv('E:/DW/확률그래프모델/project/ml-25m/ratings.csv')\n",
    "#rating_df = data_df.pivot(index='userId', columns='movieId', values='rating')\n",
    "\n",
    "userId_list = Counter(data_df['userId'])\n",
    "movieId_list = Counter(data_df['movieId'])\n",
    "ratings_list = Counter(data_df['rating'])\n",
    "\n",
    "userId_arr  = data_df['userId'].values.copy()\n",
    "movieId_arr = data_df['movieId'].values.copy()\n",
    "rating_arr = data_df['rating'].values.copy()\n",
    "\n",
    "#coordinate transformation minus 1\n",
    "userId_arr -= 1\n",
    "movieId_arr -= 1\n",
    "\n",
    "#problem setting\n",
    "problem = structure()\n",
    "problem.maxiter = 250\n",
    "problem.rows = max(userId_arr)+1\n",
    "problem.cols = max(movieId_arr)+1\n",
    "\n",
    "\n",
    "X_train, X_test = train_test_split(data_df, test_size=0.2, random_state=42)\n",
    "\n",
    "#Cross validation setting\n",
    "cv = KFold(5, shuffle=True, random_state=42)\n",
    "cv_output = []"
   ]
  },
  {
   "cell_type": "code",
   "execution_count": null,
   "metadata": {},
   "outputs": [],
   "source": [
    "for k in range(5) :\n",
    "    #rmse\n",
    "    temp_list = []\n",
    "    for i, (idx_train, idx_validation) in enumerate(cv.split(X_train)):\n",
    "        print(\"{}_th cv computing\".format(i))\n",
    "        df_train = data_df.iloc[idx_train]\n",
    "        df_validation = data_df.iloc[idx_validation]\n",
    "\n",
    "        userId_tr  = df_train['userId'].values\n",
    "        movieId_tr = df_train['movieId'].values\n",
    "        rating_tr = df_train['rating'].values\n",
    "\n",
    "        userId_vd  = df_validation['userId'].values\n",
    "        movieId_vd = df_validation['movieId'].values\n",
    "        rating_vd = df_validation['rating'].values\n",
    "\n",
    "        userId_tr -= 1\n",
    "        movieId_tr -= 1\n",
    "\n",
    "        userId_vd -= 1\n",
    "        movieId_vd -= 1\n",
    "\n",
    "        sparse_train_m = coo_matrix((rating_tr, (userId_tr, movieId_tr)), \\\n",
    "                        shape=(problem.rows, problem.cols))\n",
    "\n",
    "        sparse_validation_m = coo_matrix((rating_vd, (userId_vd, movieId_vd)), \\\n",
    "                        shape=(problem.rows, problem.cols))\n",
    "\n",
    "        problem.data_m = sparse_train_m\n",
    "        problem.test_m = sparse_validation_m\n",
    "\n",
    "        #Parameters setting\n",
    "        params = structure()\n",
    "        params.alpha = 0.2\n",
    "        params.beta = 5\n",
    "        params.R = 4\n",
    "        params.normal_loc = 0\n",
    "        params.normal_var = 0.5\n",
    "        params.latent_k = 5*(k+1)\n",
    "\n",
    "        #run algorithm\n",
    "        temp_list.append(fit(problem,params))\n",
    "\n",
    "        #print result\n",
    "        print(\"{}_th latent \".format(params.latent_k), \"cv_{}_th MAE :\".format(i), temp_list[i].MAE)\n",
    "        print(\"{}_th latent \".format(params.latent_k), \"cv_{}_th CMAE :\".format(i), temp_list[i].CMAE)\n",
    "        print(\"{}_th latent \".format(params.latent_k), \"cv_{}_th 0_1_loss :\".format(i), temp_list[i].zero_one_loss)"
   ]
  },
  {
   "cell_type": "code",
   "execution_count": null,
   "metadata": {},
   "outputs": [],
   "source": [
    "add(1, 2)"
   ]
  }
 ],
 "metadata": {
  "kernelspec": {
   "display_name": "Python 3",
   "language": "python",
   "name": "python3"
  },
  "language_info": {
   "codemirror_mode": {
    "name": "ipython",
    "version": 3
   },
   "file_extension": ".py",
   "mimetype": "text/x-python",
   "name": "python",
   "nbconvert_exporter": "python",
   "pygments_lexer": "ipython3",
   "version": "3.8.2"
  }
 },
 "nbformat": 4,
 "nbformat_minor": 4
}
