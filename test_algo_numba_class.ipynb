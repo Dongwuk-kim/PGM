{
 "cells": [
  {
   "cell_type": "code",
   "execution_count": 1,
   "metadata": {},
   "outputs": [],
   "source": [
    "from BPM_MF_algo_numba_class import BPM_MatrixFactorization, fit\n",
    "import pandas as pd\n",
    "import numpy as np\n",
    "from ypstruct import structure\n",
    "from scipy.sparse import coo_matrix\n",
    "from collections import Counter\n",
    "from sklearn.model_selection import KFold\n",
    "from sklearn.model_selection import train_test_split\n",
    "import json"
   ]
  },
  {
   "cell_type": "code",
   "execution_count": null,
   "metadata": {},
   "outputs": [],
   "source": [
    "#Import data\n",
    "colnames = ['userId', 'movieId', 'rating', 'timeStamp']\n",
    "data_df = pd.read_csv('ml-100k/u.data',sep='\\t', \n",
    "                        names = colnames, header = None)\n",
    "# data_df = pd.read_csv('E:/DW/확률그래프모델/project/ml-25m/ratings.csv')\n",
    "#rating_df = data_df.pivot(index='userId', columns='movieId', values='rating')\n",
    "\n",
    "userId_list = Counter(data_df['userId'])\n",
    "movieId_list = Counter(data_df['movieId'])\n",
    "ratings_list = Counter(data_df['rating'])\n",
    "\n",
    "userId_arr  = data_df['userId'].values.copy()\n",
    "movieId_arr = data_df['movieId'].values.copy()\n",
    "rating_arr = data_df['rating'].values.copy()\n",
    "\n",
    "#coordinate transformation minus 1\n",
    "userId_arr -= 1\n",
    "movieId_arr -= 1\n",
    "\n",
    "#problem setting\n",
    "problem = structure()\n",
    "problem.maxiter = 250\n",
    "problem.rows = max(userId_arr)+1\n",
    "problem.cols = max(movieId_arr)+1\n",
    "\n",
    "\n",
    "X_train, X_test = train_test_split(data_df, test_size=0.2, random_state=42)\n",
    "\n",
    "#Cross validation setting\n",
    "cv = KFold(5, shuffle=True, random_state=42)\n",
    "cv_output = []"
   ]
  },
  {
   "cell_type": "code",
   "execution_count": null,
   "metadata": {},
   "outputs": [],
   "source": [
    "for k in range(5) :\n",
    "    #rmse\n",
    "    temp_list = []\n",
    "    for i, (idx_train, idx_validation) in enumerate(cv.split(X_train)):\n",
    "        print(\"{}_th cv computing\".format(i))\n",
    "        df_train = data_df.iloc[idx_train]\n",
    "        df_validation = data_df.iloc[idx_validation]\n",
    "\n",
    "        userId_tr  = df_train['userId'].values\n",
    "        movieId_tr = df_train['movieId'].values\n",
    "        rating_tr = df_train['rating'].values\n",
    "\n",
    "        userId_vd  = df_validation['userId'].values\n",
    "        movieId_vd = df_validation['movieId'].values\n",
    "        rating_vd = df_validation['rating'].values\n",
    "\n",
    "        userId_tr -= 1\n",
    "        movieId_tr -= 1\n",
    "\n",
    "        userId_vd -= 1\n",
    "        movieId_vd -= 1\n",
    "\n",
    "        sparse_train_m = coo_matrix((rating_tr, (userId_tr, movieId_tr)), \\\n",
    "                        shape=(problem.rows, problem.cols))\n",
    "\n",
    "        sparse_validation_m = coo_matrix((rating_vd, (userId_vd, movieId_vd)), \\\n",
    "                        shape=(problem.rows, problem.cols))\n",
    "\n",
    "        problem.data_m = sparse_train_m\n",
    "        problem.test_m = sparse_validation_m\n",
    "\n",
    "        #Parameters setting\n",
    "        params = structure()\n",
    "        params.alpha = 0.2\n",
    "        params.beta = 5\n",
    "        params.R = 4\n",
    "        params.normal_loc = 0\n",
    "        params.normal_var = 0.5\n",
    "        params.latent_k = 5*(k+1)\n",
    "\n",
    "        #run algorithm\n",
    "        temp_list.append(fit(problem,params))\n",
    "\n",
    "        #print result\n",
    "        print(\"{}_th latent \".format(params.latent_k), \"cv_{}_th MAE :\".format(i), temp_list[i].MAE)\n",
    "        print(\"{}_th latent \".format(params.latent_k), \"cv_{}_th CMAE :\".format(i), temp_list[i].CMAE)\n",
    "        print(\"{}_th latent \".format(params.latent_k), \"cv_{}_th 0_1_loss :\".format(i), temp_list[i].zero_one_loss)"
   ]
  },
  {
   "cell_type": "markdown",
   "metadata": {},
   "source": [
    "---"
   ]
  },
  {
   "cell_type": "code",
   "execution_count": 2,
   "metadata": {},
   "outputs": [],
   "source": [
    "#Import data\n",
    "colnames = ['userId', 'movieId', 'rating', 'timeStamp']\n",
    "data_df = pd.read_csv('ml-100k/u.data',sep='\\t', \n",
    "                        names = colnames, header = None)"
   ]
  },
  {
   "cell_type": "code",
   "execution_count": 3,
   "metadata": {},
   "outputs": [
    {
     "data": {
      "text/html": [
       "<div>\n",
       "<style scoped>\n",
       "    .dataframe tbody tr th:only-of-type {\n",
       "        vertical-align: middle;\n",
       "    }\n",
       "\n",
       "    .dataframe tbody tr th {\n",
       "        vertical-align: top;\n",
       "    }\n",
       "\n",
       "    .dataframe thead th {\n",
       "        text-align: right;\n",
       "    }\n",
       "</style>\n",
       "<table border=\"1\" class=\"dataframe\">\n",
       "  <thead>\n",
       "    <tr style=\"text-align: right;\">\n",
       "      <th></th>\n",
       "      <th>userId</th>\n",
       "      <th>movieId</th>\n",
       "      <th>rating</th>\n",
       "      <th>timeStamp</th>\n",
       "    </tr>\n",
       "  </thead>\n",
       "  <tbody>\n",
       "    <tr>\n",
       "      <th>0</th>\n",
       "      <td>196</td>\n",
       "      <td>242</td>\n",
       "      <td>3</td>\n",
       "      <td>881250949</td>\n",
       "    </tr>\n",
       "    <tr>\n",
       "      <th>1</th>\n",
       "      <td>186</td>\n",
       "      <td>302</td>\n",
       "      <td>3</td>\n",
       "      <td>891717742</td>\n",
       "    </tr>\n",
       "    <tr>\n",
       "      <th>2</th>\n",
       "      <td>22</td>\n",
       "      <td>377</td>\n",
       "      <td>1</td>\n",
       "      <td>878887116</td>\n",
       "    </tr>\n",
       "    <tr>\n",
       "      <th>3</th>\n",
       "      <td>244</td>\n",
       "      <td>51</td>\n",
       "      <td>2</td>\n",
       "      <td>880606923</td>\n",
       "    </tr>\n",
       "    <tr>\n",
       "      <th>4</th>\n",
       "      <td>166</td>\n",
       "      <td>346</td>\n",
       "      <td>1</td>\n",
       "      <td>886397596</td>\n",
       "    </tr>\n",
       "    <tr>\n",
       "      <th>...</th>\n",
       "      <td>...</td>\n",
       "      <td>...</td>\n",
       "      <td>...</td>\n",
       "      <td>...</td>\n",
       "    </tr>\n",
       "    <tr>\n",
       "      <th>99995</th>\n",
       "      <td>880</td>\n",
       "      <td>476</td>\n",
       "      <td>3</td>\n",
       "      <td>880175444</td>\n",
       "    </tr>\n",
       "    <tr>\n",
       "      <th>99996</th>\n",
       "      <td>716</td>\n",
       "      <td>204</td>\n",
       "      <td>5</td>\n",
       "      <td>879795543</td>\n",
       "    </tr>\n",
       "    <tr>\n",
       "      <th>99997</th>\n",
       "      <td>276</td>\n",
       "      <td>1090</td>\n",
       "      <td>1</td>\n",
       "      <td>874795795</td>\n",
       "    </tr>\n",
       "    <tr>\n",
       "      <th>99998</th>\n",
       "      <td>13</td>\n",
       "      <td>225</td>\n",
       "      <td>2</td>\n",
       "      <td>882399156</td>\n",
       "    </tr>\n",
       "    <tr>\n",
       "      <th>99999</th>\n",
       "      <td>12</td>\n",
       "      <td>203</td>\n",
       "      <td>3</td>\n",
       "      <td>879959583</td>\n",
       "    </tr>\n",
       "  </tbody>\n",
       "</table>\n",
       "<p>100000 rows × 4 columns</p>\n",
       "</div>"
      ],
      "text/plain": [
       "       userId  movieId  rating  timeStamp\n",
       "0         196      242       3  881250949\n",
       "1         186      302       3  891717742\n",
       "2          22      377       1  878887116\n",
       "3         244       51       2  880606923\n",
       "4         166      346       1  886397596\n",
       "...       ...      ...     ...        ...\n",
       "99995     880      476       3  880175444\n",
       "99996     716      204       5  879795543\n",
       "99997     276     1090       1  874795795\n",
       "99998      13      225       2  882399156\n",
       "99999      12      203       3  879959583\n",
       "\n",
       "[100000 rows x 4 columns]"
      ]
     },
     "execution_count": 3,
     "metadata": {},
     "output_type": "execute_result"
    }
   ],
   "source": [
    "data_df"
   ]
  },
  {
   "cell_type": "code",
   "execution_count": 4,
   "metadata": {},
   "outputs": [],
   "source": [
    "userId_list = Counter(data_df['userId'])\n",
    "movieId_list = Counter(data_df['movieId'])\n",
    "ratings_list = Counter(data_df['rating'])\n",
    "\n",
    "userId_arr  = data_df['userId'].values.copy()\n",
    "movieId_arr = data_df['movieId'].values.copy()\n",
    "rating_arr = data_df['rating'].values.copy()"
   ]
  },
  {
   "cell_type": "code",
   "execution_count": 6,
   "metadata": {},
   "outputs": [],
   "source": [
    "X_train, X_test = train_test_split(data_df, test_size=0.2, random_state=42)"
   ]
  },
  {
   "cell_type": "code",
   "execution_count": 7,
   "metadata": {},
   "outputs": [],
   "source": [
    "idx_train = X_train.index\n",
    "idx_test = X_test.index"
   ]
  },
  {
   "cell_type": "code",
   "execution_count": 8,
   "metadata": {},
   "outputs": [],
   "source": [
    "userId_train = X_train['userId'].values - 1\n",
    "movieId_train = X_train['movieId'].values - 1\n",
    "rating_train = X_train['rating'].values\n",
    "\n",
    "sparse_train_matrix = coo_matrix((rating_train, (userId_train, movieId_train)), \\\n",
    "                           shape=(problem.rows, problem.cols))"
   ]
  },
  {
   "cell_type": "code",
   "execution_count": 9,
   "metadata": {},
   "outputs": [],
   "source": [
    "userId_test = X_test['userId'].values - 1\n",
    "movieId_test = X_test['movieId'].values - 1\n",
    "rating_test = X_test['rating'].values\n",
    "\n",
    "sparse_test_matrix = coo_matrix((rating_test, (userId_test, movieId_test)), \\\n",
    "                           shape=(problem.rows, problem.cols))"
   ]
  },
  {
   "cell_type": "code",
   "execution_count": 10,
   "metadata": {},
   "outputs": [],
   "source": [
    "problem.data_m = sparse_train_matrix\n",
    "problem.test_m = sparse_test_matrix"
   ]
  },
  {
   "cell_type": "code",
   "execution_count": 11,
   "metadata": {},
   "outputs": [],
   "source": [
    "# parameters setting\n",
    "params = structure()\n",
    "params.alpha = 0.2\n",
    "params.beta = 5.0\n",
    "params.R = 4\n",
    "params.normal_loc = 0.0\n",
    "params.normal_var = 0.5\n",
    "params.latent_k = 5"
   ]
  },
  {
   "cell_type": "code",
   "execution_count": 37,
   "metadata": {},
   "outputs": [
    {
     "data": {
      "text/plain": [
       "<943x1682 sparse matrix of type '<class 'numpy.int64'>'\n",
       "\twith 80000 stored elements in COOrdinate format>"
      ]
     },
     "execution_count": 37,
     "metadata": {},
     "output_type": "execute_result"
    }
   ],
   "source": [
    "problem.data_m"
   ]
  },
  {
   "cell_type": "code",
   "execution_count": 46,
   "metadata": {},
   "outputs": [],
   "source": [
    "from numba.experimental import jitclass\n",
    "from numba import int32, int64, float32, jit\n",
    "spec = [\n",
    "    ('data_u', int32[:]),\n",
    "    ('data_i', int32[:]),  \n",
    "    ('data_v', int64[:]),             \n",
    "    ('rows', int32),\n",
    "    ('cols', int32),\n",
    "    ('test_u', int32[:]),\n",
    "    ('test_i', int32[:]),\n",
    "    ('test_v', float32[:]),\n",
    "    ('latent_k', int32),\n",
    "    ('alpha', float32),\n",
    "    ('beta', float32),\n",
    "    ('R', int32),\n",
    "    ('normal_loc', float32),\n",
    "    ('normal_var', float32),\n",
    "    ('gamma_m', float32[:,:]),\n",
    "    ('eps_plus_m', float32[:,:]),\n",
    "    ('eps_minus_m', float32[:,:]),\n",
    "    ('lambda_m', float32[:,:]),\n",
    "    ('a_m', float32[:,:]),\n",
    "    ('b_m', float32[:,:]),\n",
    "    ('p_m', float32[:,:]),\n",
    "    ('q_m', float32[:,:]),\n",
    "    ('r_plus_v', int32[:]),\n",
    "    ('r_minus_v', int32[:])\n",
    "]\n",
    "\n",
    "@jitclass(spec)\n",
    "class BPM_MatrixFactorization1 :\n",
    "    def __init__(self, problem, params):\n",
    "        self.data_u = problem.data_m.row\n",
    "        self.data_i = problem.data_m.col\n",
    "        self.data_v = problem.data_m.data\n",
    "        self.test_u = problem.test_m.row\n",
    "        self.test_i = problem.test_m.col\n",
    "        self.test_v = problem.test_m.data\n",
    "        self.rows = problem.rows\n",
    "        self.cols = problem.cols\n",
    "        self.latent_k = params.latent_k\n",
    "        self.alpha = params.alpha\n",
    "        self.beta = params.beta\n",
    "        self.R = params.R\n",
    "        self.normal_loc = params.normal_loc\n",
    "        self.normal_var = params.normal_var\n",
    "        self.gamma_m = np.zeros((self.rows, self.latent_k), dtype=np.float32)\n",
    "        self.eps_plus_m = np.zeros((self.cols, self.latent_k), dtype=np.float32)\n",
    "        self.eps_minus_m = np.zeros((self.cols, self.latent_k), dtype=np.float32)\n",
    "        self.lambda_m = np.zeros((self.rows, self.cols, self.latent_k), dtype=np.float32)\n",
    "        self.a_m = np.zeros((self.rows, self.latent_k), dtype=np.float32)\n",
    "        self.b_m = np.zeros((self.cols, self.latent_k), dtype=np.float32)\n",
    "        self.p_m = np.zeros((self.rows, self.cols), dtype=np.float32)\n",
    "        self.q_m = np.zeros((self.rows, self.cols), dtype=np.float32)\n",
    "        self.r_plus_v = self.data_v.copy() - 1\n",
    "        self.r_minus_v = 5 - self.data_v.copy()"
   ]
  },
  {
   "cell_type": "code",
   "execution_count": 47,
   "metadata": {},
   "outputs": [
    {
     "ename": "AttributeError",
     "evalue": "'NoneType' object has no attribute '_code'",
     "output_type": "error",
     "traceback": [
      "\u001b[1;31m---------------------------------------------------------------------------\u001b[0m",
      "\u001b[1;31mAttributeError\u001b[0m                            Traceback (most recent call last)",
      "\u001b[1;32m<ipython-input-47-ac81ba03630c>\u001b[0m in \u001b[0;36m<module>\u001b[1;34m\u001b[0m\n\u001b[1;32m----> 1\u001b[1;33m \u001b[0mfactorization\u001b[0m \u001b[1;33m=\u001b[0m \u001b[0mBPM_MatrixFactorization1\u001b[0m\u001b[1;33m(\u001b[0m\u001b[0mproblem\u001b[0m\u001b[1;33m,\u001b[0m \u001b[0mparams\u001b[0m\u001b[1;33m)\u001b[0m\u001b[1;33m\u001b[0m\u001b[1;33m\u001b[0m\u001b[0m\n\u001b[0m",
      "\u001b[1;32mc:\\users\\minwoo\\appdata\\local\\programs\\python\\python38-32\\lib\\site-packages\\numba\\experimental\\jitclass\\base.py\u001b[0m in \u001b[0;36m__call__\u001b[1;34m(cls, *args, **kwargs)\u001b[0m\n\u001b[0;32m    120\u001b[0m         \u001b[0mbind\u001b[0m \u001b[1;33m=\u001b[0m \u001b[0mcls\u001b[0m\u001b[1;33m.\u001b[0m\u001b[0m_ctor_sig\u001b[0m\u001b[1;33m.\u001b[0m\u001b[0mbind\u001b[0m\u001b[1;33m(\u001b[0m\u001b[1;32mNone\u001b[0m\u001b[1;33m,\u001b[0m \u001b[1;33m*\u001b[0m\u001b[0margs\u001b[0m\u001b[1;33m,\u001b[0m \u001b[1;33m**\u001b[0m\u001b[0mkwargs\u001b[0m\u001b[1;33m)\u001b[0m\u001b[1;33m\u001b[0m\u001b[1;33m\u001b[0m\u001b[0m\n\u001b[0;32m    121\u001b[0m         \u001b[0mbind\u001b[0m\u001b[1;33m.\u001b[0m\u001b[0mapply_defaults\u001b[0m\u001b[1;33m(\u001b[0m\u001b[1;33m)\u001b[0m\u001b[1;33m\u001b[0m\u001b[1;33m\u001b[0m\u001b[0m\n\u001b[1;32m--> 122\u001b[1;33m         \u001b[1;32mreturn\u001b[0m \u001b[0mcls\u001b[0m\u001b[1;33m.\u001b[0m\u001b[0m_ctor\u001b[0m\u001b[1;33m(\u001b[0m\u001b[1;33m*\u001b[0m\u001b[0mbind\u001b[0m\u001b[1;33m.\u001b[0m\u001b[0margs\u001b[0m\u001b[1;33m[\u001b[0m\u001b[1;36m1\u001b[0m\u001b[1;33m:\u001b[0m\u001b[1;33m]\u001b[0m\u001b[1;33m,\u001b[0m \u001b[1;33m**\u001b[0m\u001b[0mbind\u001b[0m\u001b[1;33m.\u001b[0m\u001b[0mkwargs\u001b[0m\u001b[1;33m)\u001b[0m\u001b[1;33m\u001b[0m\u001b[1;33m\u001b[0m\u001b[0m\n\u001b[0m\u001b[0;32m    123\u001b[0m \u001b[1;33m\u001b[0m\u001b[0m\n\u001b[0;32m    124\u001b[0m \u001b[1;33m\u001b[0m\u001b[0m\n",
      "\u001b[1;31mAttributeError\u001b[0m: 'NoneType' object has no attribute '_code'"
     ]
    }
   ],
   "source": [
    "factorization = BPM_MatrixFactorization1(problem, params)"
   ]
  },
  {
   "cell_type": "code",
   "execution_count": 45,
   "metadata": {},
   "outputs": [
    {
     "data": {
      "text/plain": [
       "structure({'maxiter': 250, 'rows': 943, 'cols': 1682, 'data_m': <943x1682 sparse matrix of type '<class 'numpy.int64'>'\n",
       "\twith 80000 stored elements in COOrdinate format>, 'test_m': <943x1682 sparse matrix of type '<class 'numpy.int64'>'\n",
       "\twith 20000 stored elements in COOrdinate format>})"
      ]
     },
     "execution_count": 45,
     "metadata": {},
     "output_type": "execute_result"
    }
   ],
   "source": [
    "problem"
   ]
  },
  {
   "cell_type": "code",
   "execution_count": null,
   "metadata": {},
   "outputs": [],
   "source": [
    "factorization.normal_var"
   ]
  },
  {
   "cell_type": "code",
   "execution_count": null,
   "metadata": {},
   "outputs": [],
   "source": [
    "add(1, 2)"
   ]
  },
  {
   "cell_type": "code",
   "execution_count": 39,
   "metadata": {},
   "outputs": [],
   "source": [
    "import numpy as np\n",
    "from numba import int32, float32    # import the types\n",
    "from numba.experimental import jitclass\n",
    "\n",
    "spec = [\n",
    "    ('value', int32),               # a simple scalar field\n",
    "    ('array', float32[:]),          # an array field\n",
    "]\n",
    "\n",
    "@jitclass(spec)\n",
    "class Bag(object):\n",
    "    def __init__(self, value1):\n",
    "        self.value = value1\n",
    "        self.array = np.zeros(self.value, dtype=np.float32)\n",
    "\n",
    "    @property\n",
    "    def size(self):\n",
    "        return self.array.size\n",
    "\n",
    "    def increment(self, val):\n",
    "        for i in range(self.size):\n",
    "            self.array[i] += val\n",
    "        return self.array\n",
    "\n",
    "    def add(x, y):\n",
    "        return x + y\n",
    "\n",
    "n = 21\n",
    "mybag = Bag(n)"
   ]
  },
  {
   "cell_type": "code",
   "execution_count": 41,
   "metadata": {},
   "outputs": [
    {
     "data": {
      "text/plain": [
       "21"
      ]
     },
     "execution_count": 41,
     "metadata": {},
     "output_type": "execute_result"
    }
   ],
   "source": [
    "mybag.size"
   ]
  }
 ],
 "metadata": {
  "kernelspec": {
   "display_name": "Python 3",
   "language": "python",
   "name": "python3"
  },
  "language_info": {
   "codemirror_mode": {
    "name": "ipython",
    "version": 3
   },
   "file_extension": ".py",
   "mimetype": "text/x-python",
   "name": "python",
   "nbconvert_exporter": "python",
   "pygments_lexer": "ipython3",
   "version": "3.8.2"
  }
 },
 "nbformat": 4,
 "nbformat_minor": 4
}
